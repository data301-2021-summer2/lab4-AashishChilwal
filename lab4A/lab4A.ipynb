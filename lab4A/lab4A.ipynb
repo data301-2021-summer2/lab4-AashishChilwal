{
 "cells": [
  {
   "cell_type": "markdown",
   "metadata": {},
   "source": [
    "# Lab 4A"
   ]
  },
  {
   "cell_type": "code",
   "execution_count": 2,
   "metadata": {},
   "outputs": [],
   "source": [
    "import pandas as pd\n",
    "import numpy as np\n",
    "import matplotlib.pyplot as plt"
   ]
  },
  {
   "cell_type": "markdown",
   "metadata": {},
   "source": [
    "## Task 1: Join/Merge three datasets together\n",
    "\n",
    "Your task is to take three separate datasets (`grades1a.csv`, `grades1b.csv`, `grades1c.csv`) and merge them together.\n",
    "You may find the [documentation](https://pandas.pydata.org/pandas-docs/stable/user_guide/merging.html) helpful as it contains some visualizations to help you understand the different merges and joins that are possible.\n",
    "\n",
    "**Note: In your Explainer Video, remember to explain your code in detail. Explain not just what you did, but also why you did it that way.**\n",
    "\n",
    "The final dataset should look like this:\n",
    "\n",
    "### Sample Output\n",
    "\n",
    "```\n",
    "final_df\n",
    "```\n",
    "\n",
    "|    | Name             |   Student ID |   Chemistry |   Physics |   Math |\n",
    "|---:|:-----------------|-------------:|------------:|----------:|-------:|\n",
    "|  0 | Lila Oni         |        12001 |          59 |        90 |     45 |\n",
    "|  1 | Amina Chimwala   |        12002 |          54 |        42 |     85 |\n",
    "|  2 | Neda Makena      |        12003 |          42 |        88 |     54 |\n",
    "|  3 | Shanthi Catrina  |        12004 |          66 |        48 |     64 |\n",
    "|  4 | Deirbhile Bhavna |        12005 |          60 |        80 |     72 |\n",
    "|  5 | Ige Aifric       |        12006 |          78 |        73 |     64 |\n",
    "|  6 | Firouzeh Rudo    |        12007 |          64 |        43 |     67 |\n",
    "|  7 | Desta Jahanara   |        12008 |          82 |        69 |     70 |\n",
    "|  8 | Taiwo Sona       |        12009 |          63 |        54 |     80 |\n",
    "|  9 | Fíona Finnguala  |        12010 |          41 |        52 |     70 |\n"
   ]
  },
  {
   "cell_type": "code",
   "execution_count": 122,
   "metadata": {},
   "outputs": [
    {
     "data": {
      "text/html": [
       "<div>\n",
       "<style scoped>\n",
       "    .dataframe tbody tr th:only-of-type {\n",
       "        vertical-align: middle;\n",
       "    }\n",
       "\n",
       "    .dataframe tbody tr th {\n",
       "        vertical-align: top;\n",
       "    }\n",
       "\n",
       "    .dataframe thead th {\n",
       "        text-align: right;\n",
       "    }\n",
       "</style>\n",
       "<table border=\"1\" class=\"dataframe\">\n",
       "  <thead>\n",
       "    <tr style=\"text-align: right;\">\n",
       "      <th></th>\n",
       "      <th>Student ID</th>\n",
       "      <th>Chemistry</th>\n",
       "    </tr>\n",
       "  </thead>\n",
       "  <tbody>\n",
       "    <tr>\n",
       "      <th>0</th>\n",
       "      <td>12001</td>\n",
       "      <td>59</td>\n",
       "    </tr>\n",
       "    <tr>\n",
       "      <th>1</th>\n",
       "      <td>12003</td>\n",
       "      <td>42</td>\n",
       "    </tr>\n",
       "    <tr>\n",
       "      <th>2</th>\n",
       "      <td>12004</td>\n",
       "      <td>66</td>\n",
       "    </tr>\n",
       "    <tr>\n",
       "      <th>3</th>\n",
       "      <td>12008</td>\n",
       "      <td>82</td>\n",
       "    </tr>\n",
       "  </tbody>\n",
       "</table>\n",
       "</div>"
      ],
      "text/plain": [
       "   Student ID  Chemistry\n",
       "0       12001         59\n",
       "1       12003         42\n",
       "2       12004         66\n",
       "3       12008         82"
      ]
     },
     "execution_count": 122,
     "metadata": {},
     "output_type": "execute_result"
    }
   ],
   "source": [
    "# Your Answer Here\n",
    "df1 = pd.read_csv('grades1a.csv')\n",
    "df2 = pd.read_csv('grades1b.csv')\n",
    "df3 = pd.read_csv('grades1c.csv')\n",
    "final_df = pd.merge(df3,df2)\n",
    "final_df"
   ]
  },
  {
   "cell_type": "markdown",
   "metadata": {},
   "source": [
    "## Task 2: Combine two datasets with different keys\n",
    "\n",
    "Your task is to merge two datasets together on the \"Student ID\" column in `grades2a.csv` and the \"SID\" column in the file `grades2b.csv`.\n",
    "\n",
    "You can do this any way you like that matches the Sample Output (there are multiple ways of doing it) but please explain how you did it (and why).\n",
    "\n",
    "### Sample Output\n",
    "\n",
    "|    | Name             |   Student ID |   Chemistry |   Physics |   Math |\n",
    "|---:|:-----------------|-------------:|------------:|----------:|-------:|\n",
    "|  0 | Lila Oni         |        12001 |          59 |        90 |     45 |\n",
    "|  1 | Amina Chimwala   |        12002 |          54 |        42 |     85 |\n",
    "|  2 | Neda Makena      |        12003 |          42 |        88 |     54 |\n",
    "|  3 | Shanthi Catrina  |        12004 |          66 |        48 |     64 |\n",
    "|  4 | Deirbhile Bhavna |        12005 |          60 |        80 |     72 |\n",
    "|  5 | Ige Aifric       |        12006 |          78 |        73 |     64 |\n",
    "|  6 | Firouzeh Rudo    |        12007 |          64 |        43 |     67 |\n",
    "|  7 | Desta Jahanara   |        12008 |          82 |        69 |     70 |\n",
    "|  8 | Taiwo Sona       |        12009 |          63 |        54 |     80 |\n",
    "|  9 | Fíona Finnguala  |        12010 |          41 |        52 |     70 |"
   ]
  },
  {
   "cell_type": "code",
   "execution_count": 142,
   "metadata": {},
   "outputs": [
    {
     "data": {
      "text/html": [
       "<div>\n",
       "<style scoped>\n",
       "    .dataframe tbody tr th:only-of-type {\n",
       "        vertical-align: middle;\n",
       "    }\n",
       "\n",
       "    .dataframe tbody tr th {\n",
       "        vertical-align: top;\n",
       "    }\n",
       "\n",
       "    .dataframe thead th {\n",
       "        text-align: right;\n",
       "    }\n",
       "</style>\n",
       "<table border=\"1\" class=\"dataframe\">\n",
       "  <thead>\n",
       "    <tr style=\"text-align: right;\">\n",
       "      <th></th>\n",
       "      <th>Name</th>\n",
       "      <th>Student ID</th>\n",
       "      <th>Chemistry</th>\n",
       "      <th>Physics</th>\n",
       "      <th>Math</th>\n",
       "      <th>SID</th>\n",
       "    </tr>\n",
       "  </thead>\n",
       "  <tbody>\n",
       "    <tr>\n",
       "      <th>0</th>\n",
       "      <td>Shanthi Catrina</td>\n",
       "      <td>12004</td>\n",
       "      <td>66</td>\n",
       "      <td>48</td>\n",
       "      <td>64</td>\n",
       "      <td>12004</td>\n",
       "    </tr>\n",
       "    <tr>\n",
       "      <th>1</th>\n",
       "      <td>Deirbhile Bhavna</td>\n",
       "      <td>12005</td>\n",
       "      <td>60</td>\n",
       "      <td>80</td>\n",
       "      <td>72</td>\n",
       "      <td>12005</td>\n",
       "    </tr>\n",
       "    <tr>\n",
       "      <th>2</th>\n",
       "      <td>Ige Aifric</td>\n",
       "      <td>12006</td>\n",
       "      <td>78</td>\n",
       "      <td>73</td>\n",
       "      <td>64</td>\n",
       "      <td>12006</td>\n",
       "    </tr>\n",
       "  </tbody>\n",
       "</table>\n",
       "</div>"
      ],
      "text/plain": [
       "               Name  Student ID  Chemistry  Physics  Math    SID\n",
       "0   Shanthi Catrina       12004         66       48    64  12004\n",
       "1  Deirbhile Bhavna       12005         60       80    72  12005\n",
       "2        Ige Aifric       12006         78       73    64  12006"
      ]
     },
     "execution_count": 142,
     "metadata": {},
     "output_type": "execute_result"
    }
   ],
   "source": [
    "# Your Solution Here\n",
    "df1 = pd.read_csv('grades2a.csv')\n",
    "df2 = pd.read_csv('grades2b.csv')\n",
    "final_pdf = pd.merge(df1,df2)\n",
    "final_pdf"
   ]
  },
  {
   "cell_type": "markdown",
   "metadata": {},
   "source": [
    "## Task 3: Merge dataframes and keep only overlapping rows\n",
    "\n",
    "Often it is useful to try a bunch of different merge operations on a dataset to identify what parts of the data overlap, and what parts are disparate.\n",
    "With the overlapping rows, you can then look at the value from the left, and the value from the right to compare them to see if there is any ambiguity if you chose to merge the dataframes.\n",
    "\n",
    "In this question, you will use the same data as in Task 2 (`grades2a.csv` and `grades2b.csv`) and try to identify which rows are duplicates, or appear in both datasets.\n",
    "\n",
    "**Restriction: For this Task, you CANNOT rename columns.**\n",
    "\n",
    "## Sample Output\n",
    "\n",
    "|    | Name_x           |   Student ID |   Chemistry_x |   Physics_x |   Math_x | Name_y           |   SID |   Chemistry_y |   Physics_y |   Math_y |\n",
    "|---:|:-----------------|-------------:|--------------:|------------:|---------:|:-----------------|------:|--------------:|------------:|---------:|\n",
    "|  0 | Shanthi Catrina  |        12004 |            66 |          48 |       64 | Shanthi Catrina  | 12004 |            66 |          48 |       64 |\n",
    "|  1 | Deirbhile Bhavna |        12005 |            60 |          80 |       72 | Deirbhile Bhavna | 12005 |            60 |          80 |       72 |\n",
    "|  2 | Ige Aifric       |        12006 |            78 |          73 |       64 | Ige Aifric       | 12006 |            78 |          73 |       64 |"
   ]
  },
  {
   "cell_type": "code",
   "execution_count": 148,
   "metadata": {},
   "outputs": [
    {
     "ename": "TypeError",
     "evalue": "merge() missing 1 required positional argument: 'right'",
     "output_type": "error",
     "traceback": [
      "\u001b[0;31m---------------------------------------------------------------------------\u001b[0m",
      "\u001b[0;31mTypeError\u001b[0m                                 Traceback (most recent call last)",
      "\u001b[0;32m<ipython-input-148-51c70b706f00>\u001b[0m in \u001b[0;36m<module>\u001b[0;34m\u001b[0m\n\u001b[1;32m      2\u001b[0m \u001b[0mdf2\u001b[0m \u001b[0;34m=\u001b[0m \u001b[0mpd\u001b[0m\u001b[0;34m.\u001b[0m\u001b[0mread_csv\u001b[0m\u001b[0;34m(\u001b[0m\u001b[0;34m'grades2b.csv'\u001b[0m\u001b[0;34m)\u001b[0m\u001b[0;34m\u001b[0m\u001b[0;34m\u001b[0m\u001b[0m\n\u001b[1;32m      3\u001b[0m \u001b[0;31m#final_pdf = df1.merge(df2, on=[\"Name\"])\u001b[0m\u001b[0;34m\u001b[0m\u001b[0;34m\u001b[0m\u001b[0;34m\u001b[0m\u001b[0m\n\u001b[0;32m----> 4\u001b[0;31m \u001b[0mfinal_pdf\u001b[0m \u001b[0;34m=\u001b[0m \u001b[0mpd\u001b[0m\u001b[0;34m.\u001b[0m\u001b[0mmerge\u001b[0m\u001b[0;34m(\u001b[0m\u001b[0;34m[\u001b[0m\u001b[0mdf1\u001b[0m\u001b[0;34m,\u001b[0m \u001b[0mdf2\u001b[0m\u001b[0;34m]\u001b[0m\u001b[0;34m,\u001b[0m\u001b[0mhow\u001b[0m \u001b[0;34m=\u001b[0m \u001b[0;34m'right'\u001b[0m\u001b[0;34m)\u001b[0m\u001b[0;34m\u001b[0m\u001b[0;34m\u001b[0m\u001b[0m\n\u001b[0m\u001b[1;32m      5\u001b[0m \u001b[0mfinal_pdf\u001b[0m\u001b[0;34m\u001b[0m\u001b[0;34m\u001b[0m\u001b[0m\n",
      "\u001b[0;31mTypeError\u001b[0m: merge() missing 1 required positional argument: 'right'"
     ]
    }
   ],
   "source": [
    "df1 = pd.read_csv('grades2a.csv')\n",
    "df2 = pd.read_csv('grades2b.csv')\n",
    "#final_pdf = df1.merge(df2, on=[\"Name\"])\n",
    "final_pdf = pd.merge([df1, df2],how = 'right')\n",
    "final_pdf"
   ]
  },
  {
   "cell_type": "markdown",
   "metadata": {},
   "source": [
    "## Task 4: Explain the different merge types\n",
    "\n",
    "### Task 4.1 - Table\n",
    "\n",
    "The first part of this question is to fill out a table in words. For each merge type, write a sentence or two to explain each merge type. \n",
    "\n",
    "### Task 4.2 - Visualization\n",
    "\n",
    "The second part of this question is to find (with citation) or create a diagram to explain the merge types visually."
   ]
  },
  {
   "cell_type": "code",
   "execution_count": 129,
   "metadata": {},
   "outputs": [
    {
     "ename": "SyntaxError",
     "evalue": "invalid syntax (<ipython-input-129-082aa2cde897>, line 3)",
     "output_type": "error",
     "traceback": [
      "\u001b[0;36m  File \u001b[0;32m\"<ipython-input-129-082aa2cde897>\"\u001b[0;36m, line \u001b[0;32m3\u001b[0m\n\u001b[0;31m    | Merge Type | Explanation |\u001b[0m\n\u001b[0m    ^\u001b[0m\n\u001b[0;31mSyntaxError\u001b[0m\u001b[0;31m:\u001b[0m invalid syntax\n"
     ]
    }
   ],
   "source": [
    "### Task 4.1 - Table\n",
    "\n",
    "| Merge Type | Explanation |\n",
    "| ---------- | ----------- |\n",
    "| Left join  | Key ids from the left side are kept and the to be merge ids are added in accoradance to the left ids. |\n",
    "| Right join | Key ids from the right side are kept and the to be merge ids are added in accoradance to the right ids. |\n",
    "| Outer join | In outer join, all of the values are merged together. Unfilled values are filled with Nan.|\n",
    "| Inner join | In inner join, only the values under ids are kept. Rest all values are discarded.  |\n",
    "| Cross join | Keys ids from the left side are kept and the remaining ids are added in a way that it creates a cartesian product|\n"
   ]
  },
  {
   "cell_type": "code",
   "execution_count": null,
   "metadata": {},
   "outputs": [],
   "source": [
    "### Task 4.2 - Visualization\n",
    "\n",
    "Find (or create/sketch) a visualization/graphic/picture that makes sense to you on the different types of join, and explain it (in words) so you can crystallize your understanding of the merge types and how they work practically.\n",
    "\n",
    "**Note: Please clearly cite and reference any graphic with a link and some text that you choose to use from external sources.**"
   ]
  },
  {
   "cell_type": "code",
   "execution_count": null,
   "metadata": {},
   "outputs": [],
   "source": [
    "# Your solution here\n",
    "I have used Venn diagrams to understand the different types of merge that exists. These diagrams explain the concept better since\n",
    "what is being merged is usualy shaded.\n",
    "\n",
    "The picture of all the merge types is as follows:"
   ]
  },
  {
   "cell_type": "markdown",
   "metadata": {},
   "source": [
    "That's it, nice work!"
   ]
  }
 ],
 "metadata": {
  "kernelspec": {
   "display_name": "Python 3",
   "language": "python",
   "name": "python3"
  },
  "language_info": {
   "codemirror_mode": {
    "name": "ipython",
    "version": 3
   },
   "file_extension": ".py",
   "mimetype": "text/x-python",
   "name": "python",
   "nbconvert_exporter": "python",
   "pygments_lexer": "ipython3",
   "version": "3.8.5"
  },
  "nteract": {
   "version": "0.28.0"
  }
 },
 "nbformat": 4,
 "nbformat_minor": 4
}
