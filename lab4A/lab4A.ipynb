{
  "cells": [
    {
      "cell_type": "markdown",
      "source": [
        "# Lab 4A"
      ],
      "metadata": {}
    },
    {
      "cell_type": "code",
      "source": [
        "import pandas as pd\n",
        "import numpy as np\n",
        "import matplotlib.pyplot as plt"
      ],
      "outputs": [],
      "execution_count": 2,
      "metadata": {}
    },
    {
      "cell_type": "markdown",
      "source": [
        "## Task 1: Join/Merge three datasets together\n",
        "\n",
        "Your task is to take three separate datasets (`grades1a.csv`, `grades1b.csv`, `grades1c.csv`) and merge them together.\n",
        "You may find the [documentation](https://pandas.pydata.org/pandas-docs/stable/user_guide/merging.html) helpful as it contains some visualizations to help you understand the different merges and joins that are possible.\n",
        "\n",
        "**Note: In your Explainer Video, remember to explain your code in detail. Explain not just what you did, but also why you did it that way.**\n",
        "\n",
        "The final dataset should look like this:\n",
        "\n",
        "### Sample Output\n",
        "\n",
        "```\n",
        "final_df\n",
        "```\n",
        "\n",
        "|    | Name             |   Student ID |   Chemistry |   Physics |   Math |\n",
        "|---:|:-----------------|-------------:|------------:|----------:|-------:|\n",
        "|  0 | Lila Oni         |        12001 |          59 |        90 |     45 |\n",
        "|  1 | Amina Chimwala   |        12002 |          54 |        42 |     85 |\n",
        "|  2 | Neda Makena      |        12003 |          42 |        88 |     54 |\n",
        "|  3 | Shanthi Catrina  |        12004 |          66 |        48 |     64 |\n",
        "|  4 | Deirbhile Bhavna |        12005 |          60 |        80 |     72 |\n",
        "|  5 | Ige Aifric       |        12006 |          78 |        73 |     64 |\n",
        "|  6 | Firouzeh Rudo    |        12007 |          64 |        43 |     67 |\n",
        "|  7 | Desta Jahanara   |        12008 |          82 |        69 |     70 |\n",
        "|  8 | Taiwo Sona       |        12009 |          63 |        54 |     80 |\n",
        "|  9 | Fíona Finnguala  |        12010 |          41 |        52 |     70 |\n"
      ],
      "metadata": {}
    },
    {
      "cell_type": "code",
      "source": [
        "# Your Answer Here"
      ],
      "outputs": [],
      "execution_count": 3,
      "metadata": {}
    },
    {
      "cell_type": "markdown",
      "source": [
        "## Task 2: Combine two datasets with different keys\n",
        "\n",
        "Your task is to merge two datasets together on the \"Student ID\" column in `grades2a.csv` and the \"SID\" column in the file `grades2b.csv`.\n",
        "\n",
        "You can do this any way you like that matches the Sample Output (there are multiple ways of doing it) but please explain how you did it (and why).\n",
        "\n",
        "### Sample Output\n",
        "\n",
        "|    | Name             |   Student ID |   Chemistry |   Physics |   Math |\n",
        "|---:|:-----------------|-------------:|------------:|----------:|-------:|\n",
        "|  0 | Lila Oni         |        12001 |          59 |        90 |     45 |\n",
        "|  1 | Amina Chimwala   |        12002 |          54 |        42 |     85 |\n",
        "|  2 | Neda Makena      |        12003 |          42 |        88 |     54 |\n",
        "|  3 | Shanthi Catrina  |        12004 |          66 |        48 |     64 |\n",
        "|  4 | Deirbhile Bhavna |        12005 |          60 |        80 |     72 |\n",
        "|  5 | Ige Aifric       |        12006 |          78 |        73 |     64 |\n",
        "|  6 | Firouzeh Rudo    |        12007 |          64 |        43 |     67 |\n",
        "|  7 | Desta Jahanara   |        12008 |          82 |        69 |     70 |\n",
        "|  8 | Taiwo Sona       |        12009 |          63 |        54 |     80 |\n",
        "|  9 | Fíona Finnguala  |        12010 |          41 |        52 |     70 |"
      ],
      "metadata": {}
    },
    {
      "cell_type": "code",
      "source": [
        "# Your Solution Here"
      ],
      "outputs": [],
      "execution_count": 30,
      "metadata": {}
    },
    {
      "cell_type": "markdown",
      "source": [
        "## Task 3: Merge dataframes and keep only overlapping rows\n",
        "\n",
        "Often it is useful to try a bunch of different merge operations on a dataset to identify what parts of the data overlap, and what parts are disparate.\n",
        "With the overlapping rows, you can then look at the value from the left, and the value from the right to compare them to see if there is any ambiguity if you chose to merge the dataframes.\n",
        "\n",
        "In this question, you will use the same data as in Task 2 (`grades2a.csv` and `grades2b.csv`) and try to identify which rows are duplicates, or appear in both datasets.\n",
        "\n",
        "**Restriction: For this Task, you CANNOT rename columns.**\n",
        "\n",
        "## Sample Output\n",
        "\n",
        "|    | Name_x           |   Student ID |   Chemistry_x |   Physics_x |   Math_x | Name_y           |   SID |   Chemistry_y |   Physics_y |   Math_y |\n",
        "|---:|:-----------------|-------------:|--------------:|------------:|---------:|:-----------------|------:|--------------:|------------:|---------:|\n",
        "|  0 | Shanthi Catrina  |        12004 |            66 |          48 |       64 | Shanthi Catrina  | 12004 |            66 |          48 |       64 |\n",
        "|  1 | Deirbhile Bhavna |        12005 |            60 |          80 |       72 | Deirbhile Bhavna | 12005 |            60 |          80 |       72 |\n",
        "|  2 | Ige Aifric       |        12006 |            78 |          73 |       64 | Ige Aifric       | 12006 |            78 |          73 |       64 |"
      ],
      "metadata": {}
    },
    {
      "cell_type": "code",
      "source": [
        "# Your Solution here"
      ],
      "outputs": [],
      "execution_count": 37,
      "metadata": {}
    },
    {
      "cell_type": "markdown",
      "source": [
        "## Task 4: Explain the different merge types\n",
        "\n",
        "### Task 4.1 - Table\n",
        "\n",
        "The first part of this question is to fill out a table in words. For each merge type, write a sentence or two to explain each merge type. \n",
        "\n",
        "### Task 4.2 - Visualization\n",
        "\n",
        "The second part of this question is to find (with citation) or create a diagram to explain the merge types visually."
      ],
      "metadata": {}
    },
    {
      "cell_type": "markdown",
      "source": [
        "### Task 4.1 - Table\n",
        "\n",
        "| Merge Type | Explanation |\n",
        "| ---------- | ----------- |\n",
        "| Left join  | # Your sentence here |\n",
        "| Right join | # Your sentence here |\n",
        "| Outer join | # Your sentence here |\n",
        "| Inner join | # Your sentence here |\n",
        "| Cross join | # Your sentence here |"
      ],
      "metadata": {}
    },
    {
      "cell_type": "markdown",
      "source": [
        "### Task 4.2 - Visualization\n",
        "\n",
        "Find (or create/sketch) a visualization/graphic/picture that makes sense to you on the different types of join, and explain it (in words) so you can crystallize your understanding of the merge types and how they work practically.\n",
        "\n",
        "**Note: Please clearly cite and reference any graphic with a link and some text that you choose to use from external sources.**"
      ],
      "metadata": {}
    },
    {
      "cell_type": "code",
      "source": [
        "# Your solution here"
      ],
      "outputs": [],
      "execution_count": null,
      "metadata": {}
    },
    {
      "cell_type": "markdown",
      "source": [
        "That's it, nice work!"
      ],
      "metadata": {}
    }
  ],
  "metadata": {
    "kernelspec": {
      "display_name": "Python 3",
      "language": "python",
      "name": "python3"
    },
    "language_info": {
      "codemirror_mode": {
        "name": "ipython",
        "version": 3
      },
      "file_extension": ".py",
      "mimetype": "text/x-python",
      "name": "python",
      "nbconvert_exporter": "python",
      "pygments_lexer": "ipython3",
      "version": "3.8.3"
    },
    "nteract": {
      "version": "0.28.0"
    }
  },
  "nbformat": 4,
  "nbformat_minor": 4
}